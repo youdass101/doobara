{
 "metadata": {
  "language_info": {
   "codemirror_mode": {
    "name": "ipython",
    "version": 3
   },
   "file_extension": ".py",
   "mimetype": "text/x-python",
   "name": "python",
   "nbconvert_exporter": "python",
   "pygments_lexer": "ipython3",
   "version": "3.9.2"
  },
  "orig_nbformat": 2,
  "kernelspec": {
   "name": "python392jvsc74a57bd00845f67c7632057fbe797c5c3b163925ec30d251876d555610520a224999ca22",
   "display_name": "Python 3.9.2 64-bit"
  },
  "metadata": {
   "interpreter": {
    "hash": "0845f67c7632057fbe797c5c3b163925ec30d251876d555610520a224999ca22"
   }
  }
 },
 "nbformat": 4,
 "nbformat_minor": 2,
 "cells": [
  {
   "cell_type": "code",
   "execution_count": 21,
   "metadata": {},
   "outputs": [
    {
     "output_type": "stream",
     "name": "stdout",
     "text": [
      "True\nFalse\n"
     ]
    }
   ],
   "source": [
    "\n",
    "import string\n",
    "import time\n",
    "import threading\n",
    "from datetime import datetime, timedelta\n",
    "import pytz\n",
    "import re\n",
    "\n",
    "dt = timedelta(seconds=5)\n",
    "t = '12 Oct 2016 23:59:59'\n",
    "time = datetime.strptime(t, \"%d %b %Y %H:%M:%S\").replace(tzinfo=pytz.timezone(\"EST\"))\n",
    "\n",
    "# times =  time.replace(tzinfo=pytz.timezone(\"EST\"))\n",
    "future_time = datetime(1987, 10, 15)\n",
    "future_time = future_time.replace(tzinfo=pytz.timezone(\"EST\"))\n",
    "\n",
    "class TimeTrigger(object):\n",
    "    def __init__(self, time):\n",
    "        self.time = datetime.strptime(time, \"%d %b %Y %H:%M:%S\").replace(tzinfo=pytz.timezone(\"EST\"))\n",
    "        \n",
    "\n",
    "class BeforeTrigger(TimeTrigger):\n",
    "    def evaluate(self, story):\n",
    "        # story_time = future_time\n",
    "        result = self.time > (story-dt)\n",
    "        print(result)\n",
    "\n",
    "class AfterTrigger(TimeTrigger):\n",
    "    def evaluate(self, story):\n",
    "        # story_time = future_time\n",
    "        result = self.time < (story+dt)\n",
    "        print(result)\n",
    "\n",
    "a = BeforeTrigger(t)\n",
    "b = AfterTrigger(t)\n",
    "a.evaluate(future_time)\n",
    "b.evaluate(future_time)"
   ]
  },
  {
   "cell_type": "code",
   "execution_count": 25,
   "metadata": {},
   "outputs": [
    {
     "output_type": "stream",
     "name": "stdout",
     "text": [
      "True\n"
     ]
    }
   ],
   "source": [
    "b = True\n",
    "c = True\n",
    "print(b and c)"
   ]
  },
  {
   "cell_type": "code",
   "execution_count": 1,
   "metadata": {},
   "outputs": [
    {
     "output_type": "error",
     "ename": "IndentationError",
     "evalue": "unexpected indent (<ipython-input-1-d610cf65bce9>, line 3)",
     "traceback": [
      "\u001b[1;36m  File \u001b[1;32m\"<ipython-input-1-d610cf65bce9>\"\u001b[1;36m, line \u001b[1;32m3\u001b[0m\n\u001b[1;33m    lines = []\u001b[0m\n\u001b[1;37m    ^\u001b[0m\n\u001b[1;31mIndentationError\u001b[0m\u001b[1;31m:\u001b[0m unexpected indent\n"
     ]
    }
   ],
   "source": [
    "filename = \"ps5\\triggers.txt\"\n",
    "trigger_file = open(filename, 'r')\n",
    "lines = []\n",
    "for line in trigger_file:\n",
    "    line = line.rstrip()\n",
    "    if not (len(line) == 0 or line.startswith('//')):\n",
    "        lines.append(line)\n",
    "\n",
    "# TODO: Problem 11\n",
    "# line is the list of lines that you need to parse and for which you need\n",
    "# to build triggers\n",
    "triggers_dict = {}\n",
    "for i in lines:\n",
    "    data = i.split(\",\")\n",
    "    triggers_dict[data[0]]= (data[1], data[2])\n",
    "    \n",
    "for i in triggers_dict:\n",
    "    print(triggers_dict[i])"
   ]
  },
  {
   "cell_type": "code",
   "execution_count": null,
   "metadata": {},
   "outputs": [],
   "source": []
  }
 ]
}
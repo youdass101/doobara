{
 "cells": [
  {
   "cell_type": "code",
   "execution_count": 2,
   "metadata": {},
   "outputs": [],
   "source": [
    "class One:\n",
    "    def __init__(self, n):\n",
    "        self.a = rt(n)\n",
    "\n",
    "    def rt(n):\n",
    "        return n*n\n",
    "\n",
    "c = One(8)\n",
    "print(c)\n"
   ]
  }
 ],
 "metadata": {
  "interpreter": {
   "hash": "15662a8c8d879f24bf5d80961bab24bc1ec04f642f61df0d597a712d2e672718"
  },
  "kernelspec": {
   "display_name": "Python 3.9.2 64-bit",
   "language": "python",
   "name": "python3"
  },
  "language_info": {
   "codemirror_mode": {
    "name": "ipython",
    "version": 3
   },
   "file_extension": ".py",
   "mimetype": "text/x-python",
   "name": "python",
   "nbconvert_exporter": "python",
   "pygments_lexer": "ipython3",
   "version": "3.9.2"
  },
  "metadata": {
   "interpreter": {
    "hash": "0845f67c7632057fbe797c5c3b163925ec30d251876d555610520a224999ca22"
   }
  },
  "orig_nbformat": 2
 },
 "nbformat": 4,
 "nbformat_minor": 2
}

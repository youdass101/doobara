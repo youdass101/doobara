{
 "metadata": {
  "language_info": {
   "codemirror_mode": {
    "name": "ipython",
    "version": 3
   },
   "file_extension": ".py",
   "mimetype": "text/x-python",
   "name": "python",
   "nbconvert_exporter": "python",
   "pygments_lexer": "ipython3",
   "version": "3.9.2"
  },
  "orig_nbformat": 2,
  "kernelspec": {
   "name": "python392jvsc74a57bd00845f67c7632057fbe797c5c3b163925ec30d251876d555610520a224999ca22",
   "display_name": "Python 3.9.2 64-bit"
  },
  "metadata": {
   "interpreter": {
    "hash": "0845f67c7632057fbe797c5c3b163925ec30d251876d555610520a224999ca22"
   }
  }
 },
 "nbformat": 4,
 "nbformat_minor": 2,
 "cells": [
  {
   "cell_type": "code",
   "execution_count": 21,
   "metadata": {},
   "outputs": [
    {
     "output_type": "stream",
     "name": "stdout",
     "text": [
      "True\nFalse\n"
     ]
    }
   ],
   "source": [
    "\n",
    "import string\n",
    "import time\n",
    "import threading\n",
    "from datetime import datetime, timedelta\n",
    "import pytz\n",
    "import re\n",
    "\n",
    "dt = timedelta(seconds=5)\n",
    "t = '12 Oct 2016 23:59:59'\n",
    "time = datetime.strptime(t, \"%d %b %Y %H:%M:%S\").replace(tzinfo=pytz.timezone(\"EST\"))\n",
    "\n",
    "# times =  time.replace(tzinfo=pytz.timezone(\"EST\"))\n",
    "future_time = datetime(1987, 10, 15)\n",
    "future_time = future_time.replace(tzinfo=pytz.timezone(\"EST\"))\n",
    "\n",
    "class TimeTrigger(object):\n",
    "    def __init__(self, time):\n",
    "        self.time = datetime.strptime(time, \"%d %b %Y %H:%M:%S\").replace(tzinfo=pytz.timezone(\"EST\"))\n",
    "        \n",
    "\n",
    "class BeforeTrigger(TimeTrigger):\n",
    "    def evaluate(self, story):\n",
    "        # story_time = future_time\n",
    "        result = self.time > (story-dt)\n",
    "        print(result)\n",
    "\n",
    "class AfterTrigger(TimeTrigger):\n",
    "    def evaluate(self, story):\n",
    "        # story_time = future_time\n",
    "        result = self.time < (story+dt)\n",
    "        print(result)\n",
    "\n",
    "a = BeforeTrigger(t)\n",
    "b = AfterTrigger(t)\n",
    "a.evaluate(future_time)\n",
    "b.evaluate(future_time)"
   ]
  },
  {
   "cell_type": "code",
   "execution_count": 25,
   "metadata": {},
   "outputs": [
    {
     "output_type": "stream",
     "name": "stdout",
     "text": [
      "True\n"
     ]
    }
   ],
   "source": [
    "b = True\n",
    "c = True\n",
    "print(b and c)"
   ]
  },
  {
   "cell_type": "code",
   "execution_count": null,
   "metadata": {},
   "outputs": [],
   "source": []
  }
 ]
}